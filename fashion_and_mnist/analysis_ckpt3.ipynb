{
 "cells": [
  {
   "cell_type": "code",
   "execution_count": 1,
   "id": "3a030506-2764-4f01-8623-e1da6fa9b12d",
   "metadata": {},
   "outputs": [],
   "source": [
    "import pathlib\n",
    "import yaml\n",
    "import pandas as pd\n",
    "import seaborn as sns\n",
    "\n",
    "from tqdm.notebook import tqdm\n",
    "from matplotlib import pyplot as plt\n",
    "\n",
    "from analyze_pruning import collect_masks, compare_masks, eval_model\n",
    "from experiment import MTLModel, MtlDataModule, prune_model"
   ]
  },
  {
   "cell_type": "code",
   "execution_count": 2,
   "id": "b9746630-5285-4f05-90a1-82c86a1aea49",
   "metadata": {},
   "outputs": [],
   "source": [
    "root_folder = pathlib.Path(\"/home/nik/phd/repo/disjoint_mtl/fashion_and_mnist/tmp/2022-11-09_11-42-45\")"
   ]
  },
  {
   "cell_type": "code",
   "execution_count": 3,
   "id": "284b9960-eb23-4de5-b172-21432fa413a5",
   "metadata": {},
   "outputs": [],
   "source": [
    "path_list = []\n",
    "\n",
    "for child in root_folder.iterdir():\n",
    "    if child.is_file() or child.name == \".submitit\":\n",
    "        continue\n",
    "    \n",
    "    path_list.append(child)"
   ]
  },
  {
   "cell_type": "code",
   "execution_count": 4,
   "id": "86ae36a8-064a-46a3-85a8-8281ab5fa65f",
   "metadata": {},
   "outputs": [],
   "source": [
    "def hparams_from_dir(path):\n",
    "    config_path = path / \".hydra\" / \"config.yaml\"\n",
    "    \n",
    "    with config_path.open('r') as f:\n",
    "        return yaml.safe_load(f)\n",
    "\n",
    "def ckpts_from_dir(path):\n",
    "    ckpts_files = [f for f in path.rglob(\"*.ckpt\")]\n",
    "    num_steps = [int(f.name.split(\"=\")[-1].split(\".\")[0]) for f in ckpts_files]\n",
    "    \n",
    "    return [(s, f) for s, f in zip(num_steps, ckpts_files)]\n"
   ]
  },
  {
   "cell_type": "code",
   "execution_count": 5,
   "id": "8aff8b4c-1284-418b-8494-3c62be2c775d",
   "metadata": {},
   "outputs": [],
   "source": [
    "df_as_dict_list = []\n",
    "\n",
    "for path in path_list:\n",
    "    cfg = hparams_from_dir(path)\n",
    "    \n",
    "    for steps, ckpt_path in ckpts_from_dir(path):\n",
    "        tmp_dict = {}\n",
    "        \n",
    "        tmp_dict['lr'] = cfg['hparams']['max_lr']\n",
    "        tmp_dict['model_seed'] = cfg['model_seed']\n",
    "        tmp_dict['ckpt'] = ckpt_path\n",
    "        tmp_dict['steps'] = steps\n",
    "        tmp_dict['mode'] = cfg['hparams']['mode']\n",
    "        \n",
    "        df_as_dict_list.append(tmp_dict)\n",
    "\n",
    "df = pd.DataFrame(df_as_dict_list)"
   ]
  },
  {
   "cell_type": "code",
   "execution_count": 6,
   "id": "33a3221c-a375-4886-884e-e270e3948a13",
   "metadata": {},
   "outputs": [
    {
     "data": {
      "text/html": [
       "<div>\n",
       "<style scoped>\n",
       "    .dataframe tbody tr th:only-of-type {\n",
       "        vertical-align: middle;\n",
       "    }\n",
       "\n",
       "    .dataframe tbody tr th {\n",
       "        vertical-align: top;\n",
       "    }\n",
       "\n",
       "    .dataframe thead th {\n",
       "        text-align: right;\n",
       "    }\n",
       "</style>\n",
       "<table border=\"1\" class=\"dataframe\">\n",
       "  <thead>\n",
       "    <tr style=\"text-align: right;\">\n",
       "      <th></th>\n",
       "      <th>lr</th>\n",
       "      <th>model_seed</th>\n",
       "      <th>ckpt</th>\n",
       "      <th>steps</th>\n",
       "      <th>mode</th>\n",
       "    </tr>\n",
       "  </thead>\n",
       "  <tbody>\n",
       "    <tr>\n",
       "      <th>0</th>\n",
       "      <td>0.00001</td>\n",
       "      <td>123</td>\n",
       "      <td>/home/nik/phd/repo/disjoint_mtl/fashion_and_mn...</td>\n",
       "      <td>12500</td>\n",
       "      <td>fashion</td>\n",
       "    </tr>\n",
       "    <tr>\n",
       "      <th>1</th>\n",
       "      <td>0.00001</td>\n",
       "      <td>123</td>\n",
       "      <td>/home/nik/phd/repo/disjoint_mtl/fashion_and_mn...</td>\n",
       "      <td>2500</td>\n",
       "      <td>fashion</td>\n",
       "    </tr>\n",
       "    <tr>\n",
       "      <th>2</th>\n",
       "      <td>0.00001</td>\n",
       "      <td>123</td>\n",
       "      <td>/home/nik/phd/repo/disjoint_mtl/fashion_and_mn...</td>\n",
       "      <td>7500</td>\n",
       "      <td>fashion</td>\n",
       "    </tr>\n",
       "  </tbody>\n",
       "</table>\n",
       "</div>"
      ],
      "text/plain": [
       "        lr  model_seed                                               ckpt  \\\n",
       "0  0.00001         123  /home/nik/phd/repo/disjoint_mtl/fashion_and_mn...   \n",
       "1  0.00001         123  /home/nik/phd/repo/disjoint_mtl/fashion_and_mn...   \n",
       "2  0.00001         123  /home/nik/phd/repo/disjoint_mtl/fashion_and_mn...   \n",
       "\n",
       "   steps     mode  \n",
       "0  12500  fashion  \n",
       "1   2500  fashion  \n",
       "2   7500  fashion  "
      ]
     },
     "execution_count": 6,
     "metadata": {},
     "output_type": "execute_result"
    }
   ],
   "source": [
    "df.head(3)"
   ]
  },
  {
   "cell_type": "code",
   "execution_count": 7,
   "id": "cfd90a65-7a12-4e31-8811-852ef5ae8049",
   "metadata": {},
   "outputs": [],
   "source": [
    "# compute fashion "
   ]
  },
  {
   "cell_type": "code",
   "execution_count": 8,
   "id": "1876d1c0-0368-490e-9037-c057b7aac911",
   "metadata": {},
   "outputs": [],
   "source": [
    "data_folder = pathlib.Path(\"/home/nik/phd/repo/disjoint_mtl/data/logs/disjoint_mtl/fashion+mnist/\")\n",
    "dm_mnist = MtlDataModule(\n",
    "    data_folder=data_folder,\n",
    "    batch_size=256,\n",
    "    mode=\"mnist\",\n",
    ")\n",
    "dm_fashion = MtlDataModule(\n",
    "    data_folder=data_folder,\n",
    "    batch_size=256,\n",
    "    mode=\"fashion\",\n",
    ")"
   ]
  },
  {
   "cell_type": "code",
   "execution_count": 18,
   "id": "c6ad0bb0-ca71-413d-b422-6f5d049d922a",
   "metadata": {},
   "outputs": [],
   "source": [
    "def compute_prune_overlap(ckpt1, ckpt2, step=1):\n",
    "    dc_list = []\n",
    "    \n",
    "    for i in tqdm(range(1, 101, step)):\n",
    "        model1 = MTLModel.load_from_checkpoint(\n",
    "            ckpt1,\n",
    "            model=\"resnet18\",\n",
    "        ).cuda()\n",
    "        model2 = MTLModel.load_from_checkpoint(\n",
    "            ckpt2,\n",
    "            model=\"resnet18\",\n",
    "        ).cuda()\n",
    "        \n",
    "        factor = i / 100\n",
    "        prune_model(model1, factor)\n",
    "        prune_model(model2, factor)\n",
    "        \n",
    "        overlap = compare_masks(model1, model2)\n",
    "        dc_list.append({'prune_percentage': factor, 'overlap': overlap})\n",
    "    \n",
    "    return dc_list\n",
    "    \n",
    "        "
   ]
  },
  {
   "cell_type": "code",
   "execution_count": 19,
   "id": "0734abf6-33dd-468c-b79f-1fbcaeae19cc",
   "metadata": {},
   "outputs": [],
   "source": [
    "df_n1 = df.loc[(df['lr'] == 0.00001) & (df['steps'].isin([20_000])) & (df['model_seed'] == 456)]"
   ]
  },
  {
   "cell_type": "code",
   "execution_count": 20,
   "id": "7ec8f314-1ee7-4e14-8a84-4896d4467823",
   "metadata": {},
   "outputs": [
    {
     "data": {
      "text/html": [
       "<div>\n",
       "<style scoped>\n",
       "    .dataframe tbody tr th:only-of-type {\n",
       "        vertical-align: middle;\n",
       "    }\n",
       "\n",
       "    .dataframe tbody tr th {\n",
       "        vertical-align: top;\n",
       "    }\n",
       "\n",
       "    .dataframe thead th {\n",
       "        text-align: right;\n",
       "    }\n",
       "</style>\n",
       "<table border=\"1\" class=\"dataframe\">\n",
       "  <thead>\n",
       "    <tr style=\"text-align: right;\">\n",
       "      <th></th>\n",
       "      <th>lr</th>\n",
       "      <th>model_seed</th>\n",
       "      <th>ckpt</th>\n",
       "      <th>steps</th>\n",
       "      <th>mode</th>\n",
       "    </tr>\n",
       "  </thead>\n",
       "  <tbody>\n",
       "    <tr>\n",
       "      <th>52</th>\n",
       "      <td>0.00001</td>\n",
       "      <td>456</td>\n",
       "      <td>/home/nik/phd/repo/disjoint_mtl/fashion_and_mn...</td>\n",
       "      <td>20000</td>\n",
       "      <td>mnist</td>\n",
       "    </tr>\n",
       "    <tr>\n",
       "      <th>76</th>\n",
       "      <td>0.00001</td>\n",
       "      <td>456</td>\n",
       "      <td>/home/nik/phd/repo/disjoint_mtl/fashion_and_mn...</td>\n",
       "      <td>20000</td>\n",
       "      <td>fashion</td>\n",
       "    </tr>\n",
       "  </tbody>\n",
       "</table>\n",
       "</div>"
      ],
      "text/plain": [
       "         lr  model_seed                                               ckpt  \\\n",
       "52  0.00001         456  /home/nik/phd/repo/disjoint_mtl/fashion_and_mn...   \n",
       "76  0.00001         456  /home/nik/phd/repo/disjoint_mtl/fashion_and_mn...   \n",
       "\n",
       "    steps     mode  \n",
       "52  20000    mnist  \n",
       "76  20000  fashion  "
      ]
     },
     "execution_count": 20,
     "metadata": {},
     "output_type": "execute_result"
    }
   ],
   "source": [
    "df_n1"
   ]
  },
  {
   "cell_type": "code",
   "execution_count": 21,
   "id": "fb6785a6-d9e4-49ae-b773-f187abd4734e",
   "metadata": {},
   "outputs": [],
   "source": [
    "df_n2 = df.loc[(df['lr'] == 0.00001) & (df['steps'].isin([20_000])) & (df['model_seed'] == 123)]"
   ]
  },
  {
   "cell_type": "code",
   "execution_count": 22,
   "id": "0b085df0-61a3-4bb3-8a9a-89b8ec3ed548",
   "metadata": {},
   "outputs": [
    {
     "data": {
      "text/html": [
       "<div>\n",
       "<style scoped>\n",
       "    .dataframe tbody tr th:only-of-type {\n",
       "        vertical-align: middle;\n",
       "    }\n",
       "\n",
       "    .dataframe tbody tr th {\n",
       "        vertical-align: top;\n",
       "    }\n",
       "\n",
       "    .dataframe thead th {\n",
       "        text-align: right;\n",
       "    }\n",
       "</style>\n",
       "<table border=\"1\" class=\"dataframe\">\n",
       "  <thead>\n",
       "    <tr style=\"text-align: right;\">\n",
       "      <th></th>\n",
       "      <th>lr</th>\n",
       "      <th>model_seed</th>\n",
       "      <th>ckpt</th>\n",
       "      <th>steps</th>\n",
       "      <th>mode</th>\n",
       "    </tr>\n",
       "  </thead>\n",
       "  <tbody>\n",
       "    <tr>\n",
       "      <th>4</th>\n",
       "      <td>0.00001</td>\n",
       "      <td>123</td>\n",
       "      <td>/home/nik/phd/repo/disjoint_mtl/fashion_and_mn...</td>\n",
       "      <td>20000</td>\n",
       "      <td>fashion</td>\n",
       "    </tr>\n",
       "    <tr>\n",
       "      <th>36</th>\n",
       "      <td>0.00001</td>\n",
       "      <td>123</td>\n",
       "      <td>/home/nik/phd/repo/disjoint_mtl/fashion_and_mn...</td>\n",
       "      <td>20000</td>\n",
       "      <td>mnist</td>\n",
       "    </tr>\n",
       "  </tbody>\n",
       "</table>\n",
       "</div>"
      ],
      "text/plain": [
       "         lr  model_seed                                               ckpt  \\\n",
       "4   0.00001         123  /home/nik/phd/repo/disjoint_mtl/fashion_and_mn...   \n",
       "36  0.00001         123  /home/nik/phd/repo/disjoint_mtl/fashion_and_mn...   \n",
       "\n",
       "    steps     mode  \n",
       "4   20000  fashion  \n",
       "36  20000    mnist  "
      ]
     },
     "execution_count": 22,
     "metadata": {},
     "output_type": "execute_result"
    }
   ],
   "source": [
    "df_n2"
   ]
  },
  {
   "cell_type": "code",
   "execution_count": 23,
   "id": "09897e75-4018-4c30-8cb0-b96ab577ae3f",
   "metadata": {},
   "outputs": [],
   "source": [
    "models = []\n",
    "models.append((\"mnist_n1\", df_n1.iloc[0].ckpt))\n",
    "models.append((\"mnist_n2\", df_n2.iloc[0].ckpt))\n",
    "models.append((\"fashion_n1\", df_n1.iloc[1].ckpt))\n",
    "models.append((\"fashion_n2\", df_n2.iloc[1].ckpt))"
   ]
  },
  {
   "cell_type": "code",
   "execution_count": 27,
   "id": "d90314a6-09d2-434b-a2b1-523bf1965a30",
   "metadata": {},
   "outputs": [
    {
     "data": {
      "application/vnd.jupyter.widget-view+json": {
       "model_id": "3219cf9a5d73439ca8aa864c14d74c62",
       "version_major": 2,
       "version_minor": 0
      },
      "text/plain": [
       "  0%|          | 0/100 [00:00<?, ?it/s]"
      ]
     },
     "metadata": {},
     "output_type": "display_data"
    },
    {
     "data": {
      "application/vnd.jupyter.widget-view+json": {
       "model_id": "e14873e4f7924336acf9392565553102",
       "version_major": 2,
       "version_minor": 0
      },
      "text/plain": [
       "  0%|          | 0/100 [00:00<?, ?it/s]"
      ]
     },
     "metadata": {},
     "output_type": "display_data"
    },
    {
     "data": {
      "application/vnd.jupyter.widget-view+json": {
       "model_id": "07b7240fb1704dbaae82c2b69c1485be",
       "version_major": 2,
       "version_minor": 0
      },
      "text/plain": [
       "  0%|          | 0/100 [00:00<?, ?it/s]"
      ]
     },
     "metadata": {},
     "output_type": "display_data"
    },
    {
     "data": {
      "application/vnd.jupyter.widget-view+json": {
       "model_id": "a2d3fca4441044a18fd2977927a25c6a",
       "version_major": 2,
       "version_minor": 0
      },
      "text/plain": [
       "  0%|          | 0/100 [00:00<?, ?it/s]"
      ]
     },
     "metadata": {},
     "output_type": "display_data"
    },
    {
     "data": {
      "image/png": "[encoded data removed]",
      "text/plain": [
       "<Figure size 1000x300 with 4 Axes>"
      ]
     },
     "metadata": {},
     "output_type": "display_data"
    }
   ],
   "source": [
    "#set seaborn plotting aesthetics as default\n",
    "sns.set()\n",
    "\n",
    "#define plotting region (2 rows, 2 columns)\n",
    "fig, axes = plt.subplots(1, 4, figsize=(10, 3), constrained_layout=True)\n",
    "\n",
    "for left_idx, (left_name, left_ckpt) in enumerate(models[0:1]):\n",
    "    for right_idx, (right_name, right_ckpt) in enumerate(models):\n",
    "        df_plot = pd.DataFrame(compute_prune_overlap(left_ckpt, right_ckpt, 1))\n",
    "        sns.lineplot(data=df_plot, x='prune_percentage', y='overlap', ax=axes[right_idx]).set(\n",
    "            ylim=[0, 1.01],\n",
    "            title=f\"{left_name} vs {right_name}\"\n",
    "        )      \n"
   ]
  },
  {
   "cell_type": "code",
   "execution_count": 28,
   "id": "14a2c6af-387a-4bf5-ac1e-625796b5b35d",
   "metadata": {},
   "outputs": [],
   "source": [
    "fig.savefig('n1_vs_n2_lr_1e-5.png')"
   ]
  },
  {
   "cell_type": "code",
   "execution_count": null,
   "id": "22f16bb5-9bfc-4d02-a269-1c31628ac25b",
   "metadata": {},
   "outputs": [],
   "source": []
  },
  {
   "cell_type": "code",
   "execution_count": 26,
   "id": "a6afb276-9d4f-406b-ae88-2d369d5f244c",
   "metadata": {},
   "outputs": [
    {
     "data": {
      "application/vnd.jupyter.widget-view+json": {
       "model_id": "b1ac79d8b9dc46c6acb638554b3211e9",
       "version_major": 2,
       "version_minor": 0
      },
      "text/plain": [
       "  0%|          | 0/100 [00:00<?, ?it/s]"
      ]
     },
     "metadata": {},
     "output_type": "display_data"
    },
    {
     "data": {
      "text/plain": [
       "[(0.0, 1.01), Text(0.5, 1.0, 'overlap random init')]"
      ]
     },
     "execution_count": 26,
     "metadata": {},
     "output_type": "execute_result"
    },
    {
     "data": {
      "image/png": "[encoded data removed]",
      "text/plain": [
       "<Figure size 640x480 with 1 Axes>"
      ]
     },
     "metadata": {},
     "output_type": "display_data"
    }
   ],
   "source": [
    "init_n2 = \"/home/nik/phd/repo/disjoint_mtl/fashion_and_mnist/tmp/2022-11-09_11-42-45/initial_model_seed_123.ckpt\"\n",
    "init_n1 = \"/home/nik/phd/repo/disjoint_mtl/fashion_and_mnist/tmp/2022-11-09_11-42-45/initial_model_seed_456.ckpt\"\n",
    "\n",
    "df_plot = pd.DataFrame(compute_prune_overlap(init_n1, init_n2, 1))\n",
    "sns.set()\n",
    "\n",
    "g = sns.lineplot(data=df_plot, x='prune_percentage', y='overlap').set(\n",
    "    ylim=[0, 1.01],\n",
    "    title=f\"overlap random init\"\n",
    ")\n",
    "plt.savefig(\"random_init_overlap.png\")\n",
    "g"
   ]
  },
  {
   "cell_type": "code",
   "execution_count": null,
   "id": "1c9bb776-d12d-4491-8228-6a63f9d0130d",
   "metadata": {},
   "outputs": [],
   "source": []
  },
  {
   "cell_type": "code",
   "execution_count": null,
   "id": "c4de6780-930e-4138-a467-277f28f72af5",
   "metadata": {},
   "outputs": [],
   "source": []
  }
 ],
 "metadata": {
  "kernelspec": {
   "display_name": "Python 3 (ipykernel)",
   "language": "python",
   "name": "python3"
  },
  "language_info": {
   "codemirror_mode": {
    "name": "ipython",
    "version": 3
   },
   "file_extension": ".py",
   "mimetype": "text/x-python",
   "name": "python",
   "nbconvert_exporter": "python",
   "pygments_lexer": "ipython3",
   "version": "3.10.7"
  }
 },
 "nbformat": 4,
 "nbformat_minor": 5
}
